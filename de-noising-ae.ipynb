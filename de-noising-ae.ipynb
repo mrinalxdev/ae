{
 "cells": [
  {
   "cell_type": "markdown",
   "id": "edd06af1",
   "metadata": {},
   "source": [
    "general plan \n",
    "\n",
    "input noisy images -> multiple noise types -> add batch norm, dropout and tweark the regularization -> psnr calculation"
   ]
  },
  {
   "cell_type": "code",
   "execution_count": null,
   "id": "a4e942fd",
   "metadata": {},
   "outputs": [],
   "source": [
    "import torch\n",
    "import torch.nn as nn\n",
    "import torch.optim as optim\n",
    "from torchvision import datasets, transforms\n",
    "import matplotlib.pyplot as plt\n",
    "import numpy as np"
   ]
  },
  {
   "cell_type": "code",
   "execution_count": null,
   "id": "4a6dbc9e",
   "metadata": {},
   "outputs": [],
   "source": [
    "transform = transforms.ToTensor()\n",
    "mnist_data = datasets.MNIST(root='./data', train=True, download=True, transform=transform)\n",
    "data_loader = torch.utils.data.DataLoader(dataset=mnist_data, batch_size=64, shuffle=True)"
   ]
  },
  {
   "cell_type": "code",
   "execution_count": null,
   "id": "9f84db1d",
   "metadata": {},
   "outputs": [],
   "source": [
    "class DenoisingCNNAutoEncoder(nn.Module):\n",
    "    def __init__(self):\n",
    "        super(DenoisingCNNAutoEncoder, self).__init__()\n",
    "\n",
    "        self.encoder = nn.Sequential(\n",
    "            nn.Conv2d(1, 32, kernel_size=3, padding=1)\n",
    "            nn.BatchNorm2d(32),\n",
    "            nn.ReLU(),\n",
    "            nn.MaxPool2d(2, 2),\n",
    "        )"
   ]
  }
 ],
 "metadata": {
  "kernelspec": {
   "display_name": "venv",
   "language": "python",
   "name": "python3"
  },
  "language_info": {
   "name": "python",
   "version": "3.12.6"
  }
 },
 "nbformat": 4,
 "nbformat_minor": 5
}
