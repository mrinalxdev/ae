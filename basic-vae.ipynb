{
 "cells": [
  {
   "cell_type": "markdown",
   "id": "0efdd776",
   "metadata": {},
   "source": [
    "takes 784 dim input -> 400 hidden -> outputs $\\mu$ and $log \\sigma^2$ (both 20 dim)"
   ]
  },
  {
   "cell_type": "code",
   "execution_count": null,
   "id": "c1570173",
   "metadata": {},
   "outputs": [],
   "source": [
    "import torch\n",
    "import torch.nn as nn\n",
    "import torch.nn.functional as F\n",
    "import torch.optim as optim\n",
    "from torchvision import datasets, transforms"
   ]
  },
  {
   "cell_type": "markdown",
   "id": "dcfa2477",
   "metadata": {},
   "source": [
    "instead of directly encoding to a fixed latent vector, the encoder must output two vectors : \n",
    "- Mean vector ($\\mu$) this represents the mean of the latent distribution\n",
    "- log variance vector (log $\\sigma^2$) which represents the variance of the latent distribution"
   ]
  },
  {
   "cell_type": "code",
   "execution_count": null,
   "id": "9dc5bce0",
   "metadata": {},
   "outputs": [],
   "source": [
    "class VAE(nn.Module):\n",
    "    def __init__(self, input_dim=784, hidden_dim=400, latent_dim=20):\n",
    "        super(VAE)"
   ]
  }
 ],
 "metadata": {
  "kernelspec": {
   "display_name": "venv",
   "language": "python",
   "name": "python3"
  },
  "language_info": {
   "name": "python",
   "version": "3.12.6"
  }
 },
 "nbformat": 4,
 "nbformat_minor": 5
}
